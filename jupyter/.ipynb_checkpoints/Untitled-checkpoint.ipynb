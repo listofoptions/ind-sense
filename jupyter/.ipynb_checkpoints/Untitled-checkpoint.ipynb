{
 "cells": [
  {
   "cell_type": "code",
   "execution_count": 1,
   "metadata": {},
   "outputs": [],
   "source": [
    "%matplotlib inline\n",
    "import matplotlib.pyplot as plt"
   ]
  },
  {
   "cell_type": "code",
   "execution_count": 2,
   "metadata": {},
   "outputs": [],
   "source": [
    "import sympy as sp\n",
    "import numpy as np\n",
    "from scipy.constants import mu_0, epsilon_0\n",
    "from sympy.physics.units import *"
   ]
  },
  {
   "cell_type": "code",
   "execution_count": 3,
   "metadata": {},
   "outputs": [],
   "source": [
    "sp.init_printing()"
   ]
  },
  {
   "cell_type": "code",
   "execution_count": 4,
   "metadata": {},
   "outputs": [],
   "source": [
    "# geometric variables\n",
    "# independent variables\n",
    "#coil outter diameter [cm], coil inner diameter [cm], trace width, core width, pcb thickness, \n",
    "# airgap length initial [cm], airgap final initial [cm],  core thickness, copper thickness, coil pitch (spacing between traces)\n",
    "d_out, d_in, w, g, d, l_g_0, l_g_1, t_c, t_b, p = sp.symbols(\"d_out, d_in, w, g, d, l_g_0, l_g_1, t_c, t_b, p\")\n",
    "# initial design constraints (geometric) distances are all in millimeters\n",
    "d_out = 1.0     * cm\n",
    "d_in  = 0.04514 * cm # ceil(0.0254) + 0.01524\n",
    "w     = 0.01524 * cm\n",
    "p     = 0.01524 * cm\n",
    "d     = 0.16    * cm #oshpark board thickness\n",
    "l_g_0 = 0.3     * cm # unpressed switch\n",
    "l_g_1 = (0.1 + 0.00254) * cm # pressed switch, with oshpark soldermask thickness, and protective sheet\n",
    "g     = 1.1     * cm\n",
    "t_c   = 0.035   * cm # web searches\n",
    "t_b   = 0.00356 * cm\n",
    "# dependent variables\n",
    "#mpl, A_c, mtl, A_t, n = sp.symbols(\"mpl, A_c, mtl, A_t, n\")\n",
    "# mean path length [cm]\n",
    "mpl_1 = 2*((1/2)*(g + d_out)+ (1/3)*(t_c + t_b + l_g_1))\n",
    "mpl_0 = 2*((1/2)*(g + d_out)+ (1/3)*(t_c + t_b + l_g_0))\n",
    "# mean turn length [mm]\n",
    "mtl = (np.pi/2)*(d_out + d_in)\n",
    "# core effective area [cm**2]\n",
    "A_c = (np.pi/4)*(g**2)\n",
    "# trace area [mm**2]\n",
    "n = sp.floor(((d_out - 1/2*w) - (d_in + 1/2*w))/(2*(w + p)))\n",
    "A_t = mtl*w*n\n",
    "\n",
    "# electrical variables\n",
    "# independent variables\n",
    "# material permitivity and permiability\n",
    "eps, mu = sp.symbols(\"eps, mu\")\n",
    "eps   = 4.6 * (pico*farads) / mm  #oshpark\n",
    "mu    = 1500  #* (newton / ampere**2) #silicon steel laminate sheet\n",
    "# dependent variables\n",
    "#C_p, R_t, L, F = sp.symbols(\"C_p, R_t, L, F\")\n",
    "# paracitic capacitance [pF], assuming a plane on opposite side of pcb\n",
    "C_p = 0.0085*(eps)*(A_t*100*mm**2 / cm**2)/(d*10*mm/cm)\n",
    "# fringing factor\n",
    "Fr_0 = (1 + (l_g_0/sp.sqrt(A_c))*sp.ln(2*g/l_g_0))\n",
    "Fr_1 = (1 + (l_g_1/sp.sqrt(A_c))*sp.ln(2*g/l_g_1))\n",
    "# trace resistance [uOhms/mM]\n",
    "R = (mtl*10*mm/cm)*n*(10**(-6)) * (micro * ohms)/mm\n",
    "# self inductance with fringing effect [H]\n",
    "L_0 = Fr_0*(0.4*np.pi*(n**2)*A_c*(10**(-9)))/(l_g_0 + (mpl_0/mu)) * H / cm\n",
    "L_1 = Fr_1*(0.4*np.pi*(n**2)*A_c*(10**(-9)))/(l_g_1 + (mpl_1/mu)) * H / cm\n",
    "\n",
    "# constraining equations\n",
    "# independent variables [A], [V]\n",
    "i_dc, i_ac, v_dc, v_ac = sp.symbols(\"i_dc, i_ac, v_dc, v_ac\")\n",
    "# initial design constraints (electric)\n",
    "# dependent variables\n",
    "#B_ac, B_dc, B_pk, I_pk, V_min = sp.symbols(\"B_ac, B_dc, B_pk, I_pk, V_min\")\n",
    "# ac, dc, and peak B-fields, [Tesla]\n",
    "#B_ac = (0.4*pi*n*(i_ac/2)*(10**(-4))) / (l_g + (mpl/mu))\n",
    "#B_dc = (0.4*pi*n*i_dc*(10**(-4))) / (l_g + (mpl/mu))\n",
    "#B_pk = B_dc + (B_ac/2)\n",
    "#i_pk = i_dc + (i_ac/2)\n",
    "\n",
    "# this main issue with design is the correct choice of geometry, current, and frequency to ensure a large enough detectable\n",
    "# change in inductance, having an airgap that varies.\n",
    "\n",
    "\n",
    "## in ---- R ---- L ---- out\n",
    "##  |                     |\n",
    "##  | ---- C_p -----------|\n"
   ]
  },
  {
   "cell_type": "code",
   "execution_count": 5,
   "metadata": {},
   "outputs": [
    {
     "name": "stdout",
     "output_type": "stream",
     "text": [
      "1.43741567552195e-6*henry 3.41677831647223e-6*henry\n",
      "2.46255310947963e-10*ohm\n",
      "9.17122498180724e-13*farad\n",
      "15\n"
     ]
    }
   ],
   "source": [
    "print(L_0, L_1)\n",
    "print(R)\n",
    "print(C_p)\n",
    "print(n)"
   ]
  },
  {
   "cell_type": "code",
   "execution_count": null,
   "metadata": {},
   "outputs": [],
   "source": []
  }
 ],
 "metadata": {
  "kernelspec": {
   "display_name": "Python 3",
   "language": "python",
   "name": "python3"
  },
  "language_info": {
   "codemirror_mode": {
    "name": "ipython",
    "version": 3
   },
   "file_extension": ".py",
   "mimetype": "text/x-python",
   "name": "python",
   "nbconvert_exporter": "python",
   "pygments_lexer": "ipython3",
   "version": "3.6.4"
  }
 },
 "nbformat": 4,
 "nbformat_minor": 2
}
